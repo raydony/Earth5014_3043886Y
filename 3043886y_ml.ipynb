{
 "cells": [
  {
   "cell_type": "code",
   "execution_count": null,
   "metadata": {},
   "outputs": [],
   "source": [
    "import pandas as pd\n",
    "import numpy as np\n",
    "import matplotlib.pyplot as plt\n",
    "import seaborn as sns\n",
    "import plotly.graph_objects as go\n",
    "\n",
    "from sklearn.model_selection import train_test_split, GridSearchCV\n",
    "from sklearn.preprocessing import StandardScaler\n",
    "from sklearn.ensemble import RandomForestRegressor\n",
    "from xgboost import XGBRegressor\n",
    "from sklearn.neural_network import MLPRegressor\n",
    "from sklearn.metrics import mean_absolute_error, mean_squared_error, r2_score\n",
    "\n",
    "#Read the data\n",
    "data = pd.read_csv(\"Japan earthquakes 2001 - 2018.csv\")\n",
    "\n",
    "#Process time features\n",
    "data[\"time\"] = pd.to_datetime(data[\"time\"])\n",
    "data.sort_values(by=\"time\", inplace=True)\n",
    "data[\"year\"] = data[\"time\"].dt.year\n",
    "data[\"month\"] = data[\"time\"].dt.month\n",
    "data[\"day\"] = data[\"time\"].dt.day\n",
    "data[\"hour\"] = data[\"time\"].dt.hour\n",
    "data[\"minute\"] = data[\"time\"].dt.minute\n",
    "\n",
    "#Select features and target\n",
    "selected_features = [\"year\", \"month\", \"day\", \"hour\", \"minute\", \"depth\", \"gap\", \"nst\", \"magNst\"]\n",
    "targets = [\"latitude\", \"longitude\", \"mag\"]\n",
    "\n",
    "#Filter data with magnitude greater than 5.5\n",
    "data = data[data[\"mag\"] > 5.5]\n",
    "\n",
    "#Clean data by removing missing values\n",
    "data_clean = data.dropna(subset=selected_features + targets)\n",
    "\n",
    "#Prepare feature matrix X and target y\n",
    "X = data_clean[selected_features]\n",
    "y = data_clean[targets]\n",
    "\n",
    "#Standardize the data\n",
    "scaler = StandardScaler()\n",
    "X_scaled = scaler.fit_transform(X)\n",
    "\n",
    "#Split into training and testing sets\n",
    "X_train, X_test, y_train, y_test = train_test_split(\n",
    "    X_scaled, y, test_size=0.2, random_state=42\n",
    ")"
   ]
  },
  {
   "cell_type": "code",
   "execution_count": null,
   "metadata": {},
   "outputs": [
    {
     "name": "stdout",
     "output_type": "stream",
     "text": [
      "Fitting 3 folds for each of 12 candidates, totalling 36 fits\n",
      "MAE: 0.6411522940276724\n",
      "MSE: 0.835045065140945\n",
      "R2 Score: 0.6792112325770395\n"
     ]
    },
    {
     "data": {
      "application/vnd.plotly.v1+json": {
       "config": {
        "plotlyServerURL": "https://plot.ly"
       },
       "data": [
        {
         "lat": {
          "_inputArray": {
           "0": 39.599,
           "1": 37.337,
           "2": 46.301,
           "3": 38.964,
           "4": 36.469,
           "5": 37.454,
           "6": 36.195,
           "7": 47.111,
           "8": 36.625,
           "9": 38.989,
           "10": 38.361,
           "11": 36.586,
           "12": 46.195,
           "13": 36.004,
           "14": 37.416,
           "15": 37.791,
           "16": 36.398,
           "17": 41.836,
           "18": 36.122,
           "19": 38.055,
           "20": 37.934,
           "21": 37.956,
           "22": 36.109,
           "23": 36.943,
           "24": 37.465,
           "bdata": "6SYxCKzMQ0BCYOXQIqtCQEoMAiuHJkdACKwcWmR7Q0B56SYxCDxCQCcxCKwcukJAKVyPwvUYQkCR7Xw/NY5HQAAAAAAAUEJAO99PjZd+Q0CR7Xw/NS5DQF66SQwCS0JAKVyPwvUYR0CNl24SgwBCQGiR7Xw/tUJAaJHtfD/lQkBt5/up8TJCQF66SQwC60RAVg4tsp0PQkDXo3A9CgdDQGQ730+N90JA7nw/NV76QkDLoUW28w1CQGIQWDm0eEJA7FG4HoW7QkA=",
           "dtype": "f8",
           "shape": "25"
          },
          "bdata": "6SYxCKzMQ0BCYOXQIqtCQEoMAiuHJkdACKwcWmR7Q0B56SYxCDxCQCcxCKwcukJAKVyPwvUYQkCR7Xw/NY5HQAAAAAAAUEJAO99PjZd+Q0CR7Xw/NS5DQF66SQwCS0JAKVyPwvUYR0CNl24SgwBCQGiR7Xw/tUJAaJHtfD/lQkBt5/up8TJCQF66SQwC60RAVg4tsp0PQkDXo3A9CgdDQGQ730+N90JA7nw/NV76QkDLoUW28w1CQGIQWDm0eEJA7FG4HoW7QkA=",
          "dtype": "f8"
         },
         "lon": {
          "_inputArray": {
           "0": 141.576,
           "1": 144.237,
           "2": 154.61,
           "3": 142.398,
           "4": 141.84,
           "5": 142.097,
           "6": 141.813,
           "7": 154.417,
           "8": 141.867,
           "9": 144.126,
           "10": 142.91,
           "11": 141.823,
           "12": 154.668,
           "13": 142.067,
           "14": 142.451,
           "15": 140.812,
           "16": 141.864,
           "17": 143.687,
           "18": 140.966,
           "19": 142.548,
           "20": 144.529,
           "21": 143.248,
           "22": 141.696,
           "23": 142.309,
           "24": 142.404,
           "bdata": "30+Nl26yYUDdJAaBlQdiQOxRuB6FU2NA2/l+arzMYUB7FK5H4bphQMl2vp8aw2FAvHSTGAS6YUDTTWIQWE1jQDm0yHa+u2FAeekmMQgEYkCF61G4Ht1hQHWTGARWumFATDeJQWBVY0CgGi/dJMJhQN9PjZduzmFARIts5/uZYUDP91PjpbthQESLbOf79WFA9P3UeOmeYUCoxks3idFhQLByaJHtEGJADi2yne/nYUCDwMqhRbZhQNnO91PjyWFAsHJoke3MYUA=",
           "dtype": "f8",
           "shape": "25"
          },
          "bdata": "30+Nl26yYUDdJAaBlQdiQOxRuB6FU2NA2/l+arzMYUB7FK5H4bphQMl2vp8aw2FAvHSTGAS6YUDTTWIQWE1jQDm0yHa+u2FAeekmMQgEYkCF61G4Ht1hQHWTGARWumFATDeJQWBVY0CgGi/dJMJhQN9PjZduzmFARIts5/uZYUDP91PjpbthQESLbOf79WFA9P3UeOmeYUCoxks3idFhQLByaJHtEGJADi2yne/nYUCDwMqhRbZhQNnO91PjyWFAsHJoke3MYUA=",
          "dtype": "f8"
         },
         "marker": {
          "color": {
           "_inputArray": {
            "0": 5.8,
            "1": 6.1,
            "2": 5.6,
            "3": 5.8,
            "4": 5.9,
            "5": 5.9,
            "6": 5.8,
            "7": 5.7,
            "8": 5.9,
            "9": 5.7,
            "10": 5.7,
            "11": 6.3,
            "12": 5.9,
            "13": 6.5,
            "14": 5.6,
            "15": 5.8,
            "16": 6,
            "17": 5.6,
            "18": 5.6,
            "19": 5.9,
            "20": 6.1,
            "21": 5.9,
            "22": 5.9,
            "23": 5.7,
            "24": 5.6,
            "bdata": "MzMzMzMzF0BmZmZmZmYYQGZmZmZmZhZAMzMzMzMzF0CamZmZmZkXQJqZmZmZmRdAMzMzMzMzF0DNzMzMzMwWQJqZmZmZmRdAzczMzMzMFkDNzMzMzMwWQDMzMzMzMxlAmpmZmZmZF0AAAAAAAAAaQGZmZmZmZhZAMzMzMzMzF0AAAAAAAAAYQGZmZmZmZhZAZmZmZmZmFkCamZmZmZkXQGZmZmZmZhhAmpmZmZmZF0CamZmZmZkXQM3MzMzMzBZAZmZmZmZmFkA=",
            "dtype": "f8",
            "shape": "25"
           },
           "bdata": "MzMzMzMzF0BmZmZmZmYYQGZmZmZmZhZAMzMzMzMzF0CamZmZmZkXQJqZmZmZmRdAMzMzMzMzF0DNzMzMzMwWQJqZmZmZmRdAzczMzMzMFkDNzMzMzMwWQDMzMzMzMxlAmpmZmZmZF0AAAAAAAAAaQGZmZmZmZhZAMzMzMzMzF0AAAAAAAAAYQGZmZmZmZhZAZmZmZmZmFkCamZmZmZkXQGZmZmZmZhhAmpmZmZmZF0CamZmZmZkXQM3MzMzMzBZAZmZmZmZmFkA=",
           "dtype": "f8"
          },
          "colorbar": {
           "title": {
            "text": "Actual Magnitude"
           },
           "x": -0.1,
           "y": 0.5
          },
          "colorscale": [
           [
            0,
            "rgb(247,251,255)"
           ],
           [
            0.125,
            "rgb(222,235,247)"
           ],
           [
            0.25,
            "rgb(198,219,239)"
           ],
           [
            0.375,
            "rgb(158,202,225)"
           ],
           [
            0.5,
            "rgb(107,174,214)"
           ],
           [
            0.625,
            "rgb(66,146,198)"
           ],
           [
            0.75,
            "rgb(33,113,181)"
           ],
           [
            0.875,
            "rgb(8,81,156)"
           ],
           [
            1,
            "rgb(8,48,107)"
           ]
          ],
          "opacity": 0.6,
          "size": {
           "_inputArray": {
            "0": 11.6,
            "1": 12.2,
            "2": 11.2,
            "3": 11.6,
            "4": 11.8,
            "5": 11.8,
            "6": 11.6,
            "7": 11.4,
            "8": 11.8,
            "9": 11.4,
            "10": 11.4,
            "11": 12.6,
            "12": 11.8,
            "13": 13,
            "14": 11.2,
            "15": 11.6,
            "16": 12,
            "17": 11.2,
            "18": 11.2,
            "19": 11.8,
            "20": 12.2,
            "21": 11.8,
            "22": 11.8,
            "23": 11.4,
            "24": 11.2,
            "bdata": "MzMzMzMzJ0BmZmZmZmYoQGZmZmZmZiZAMzMzMzMzJ0CamZmZmZknQJqZmZmZmSdAMzMzMzMzJ0DNzMzMzMwmQJqZmZmZmSdAzczMzMzMJkDNzMzMzMwmQDMzMzMzMylAmpmZmZmZJ0AAAAAAAAAqQGZmZmZmZiZAMzMzMzMzJ0AAAAAAAAAoQGZmZmZmZiZAZmZmZmZmJkCamZmZmZknQGZmZmZmZihAmpmZmZmZJ0CamZmZmZknQM3MzMzMzCZAZmZmZmZmJkA=",
            "dtype": "f8",
            "shape": "25"
           },
           "bdata": "MzMzMzMzJ0BmZmZmZmYoQGZmZmZmZiZAMzMzMzMzJ0CamZmZmZknQJqZmZmZmSdAMzMzMzMzJ0DNzMzMzMwmQJqZmZmZmSdAzczMzMzMJkDNzMzMzMwmQDMzMzMzMylAmpmZmZmZJ0AAAAAAAAAqQGZmZmZmZiZAMzMzMzMzJ0AAAAAAAAAoQGZmZmZmZiZAZmZmZmZmJkCamZmZmZknQGZmZmZmZihAmpmZmZmZJ0CamZmZmZknQM3MzMzMzCZAZmZmZmZmJkA=",
           "dtype": "f8"
          }
         },
         "mode": "markers",
         "name": "Actual Earthquakes",
         "text": {
          "_inputArray": {
           "0": 5.8,
           "1": 6.1,
           "2": 5.6,
           "3": 5.8,
           "4": 5.9,
           "5": 5.9,
           "6": 5.8,
           "7": 5.7,
           "8": 5.9,
           "9": 5.7,
           "10": 5.7,
           "11": 6.3,
           "12": 5.9,
           "13": 6.5,
           "14": 5.6,
           "15": 5.8,
           "16": 6,
           "17": 5.6,
           "18": 5.6,
           "19": 5.9,
           "20": 6.1,
           "21": 5.9,
           "22": 5.9,
           "23": 5.7,
           "24": 5.6,
           "bdata": "MzMzMzMzF0BmZmZmZmYYQGZmZmZmZhZAMzMzMzMzF0CamZmZmZkXQJqZmZmZmRdAMzMzMzMzF0DNzMzMzMwWQJqZmZmZmRdAzczMzMzMFkDNzMzMzMwWQDMzMzMzMxlAmpmZmZmZF0AAAAAAAAAaQGZmZmZmZhZAMzMzMzMzF0AAAAAAAAAYQGZmZmZmZhZAZmZmZmZmFkCamZmZmZkXQGZmZmZmZhhAmpmZmZmZF0CamZmZmZkXQM3MzMzMzBZAZmZmZmZmFkA=",
           "dtype": "f8",
           "shape": "25"
          },
          "bdata": "MzMzMzMzF0BmZmZmZmYYQGZmZmZmZhZAMzMzMzMzF0CamZmZmZkXQJqZmZmZmRdAMzMzMzMzF0DNzMzMzMwWQJqZmZmZmRdAzczMzMzMFkDNzMzMzMwWQDMzMzMzMxlAmpmZmZmZF0AAAAAAAAAaQGZmZmZmZhZAMzMzMzMzF0AAAAAAAAAYQGZmZmZmZhZAZmZmZmZmFkCamZmZmZkXQGZmZmZmZhhAmpmZmZmZF0CamZmZmZkXQM3MzMzMzBZAZmZmZmZmFkA=",
          "dtype": "f8"
         },
         "type": "scattergeo"
        },
        {
         "lat": {
          "_inputArray": {
           "0": 37.25005175565412,
           "1": 37.32819850587159,
           "2": 46.46023800000014,
           "3": 37.659572466143196,
           "4": 37.63605598815382,
           "5": 37.10945106833091,
           "6": 37.11111457799587,
           "7": 46.39273199999989,
           "8": 37.68554127519259,
           "9": 37.367518519975185,
           "10": 37.50281603352891,
           "11": 38.033306785000654,
           "12": 46.37150399999976,
           "13": 37.98480796401972,
           "14": 37.202301476563505,
           "15": 38.01123268254774,
           "16": 37.541873724629276,
           "17": 42.785993735964716,
           "18": 37.39171448898846,
           "19": 37.752724253804935,
           "20": 37.41563800964691,
           "21": 37.17756487125813,
           "22": 37.574732475992946,
           "23": 37.10179367328055,
           "24": 37.56440629340714,
           "bdata": "wWsosgGgQkBDqJxoAqpCQEMwKxTpOkdAq7bd3mzUQkDXxVlIatFCQCx/G34CjkJA8UyjADmOQkDNC8wKRTJHQFKBBtG/10JA3/vL2AqvQkCf9JlGXMBCQAcokGVDBENAhCptcY0vR0AMJ/cvDv5CQOriyAPlmUJALhiSEnABQ0AX7EIeXMVCQCdqV3GbZEVAk8lLsyOyQkDFf7JEWeBCQDo0VaAztUJAbnwZcrqWQkBeK3LVkMlCQP/WOJMHjUJAjesldz7IQkA=",
           "dtype": "f8",
           "shape": "25"
          },
          "bdata": "wWsosgGgQkBDqJxoAqpCQEMwKxTpOkdAq7bd3mzUQkDXxVlIatFCQCx/G34CjkJA8UyjADmOQkDNC8wKRTJHQFKBBtG/10JA3/vL2AqvQkCf9JlGXMBCQAcokGVDBENAhCptcY0vR0AMJ/cvDv5CQOriyAPlmUJALhiSEnABQ0AX7EIeXMVCQCdqV3GbZEVAk8lLsyOyQkDFf7JEWeBCQDo0VaAztUJAbnwZcrqWQkBeK3LVkMlCQP/WOJMHjUJAjesldz7IQkA=",
          "dtype": "f8"
         },
         "lon": {
          "_inputArray": {
           "0": 142.24753148616566,
           "1": 142.09384873793908,
           "2": 153.71547999999933,
           "3": 142.93330861408077,
           "4": 143.01780822122294,
           "5": 142.46242409524595,
           "6": 142.2034316551576,
           "7": 153.5558979999995,
           "8": 142.77507418132723,
           "9": 142.40473183294182,
           "10": 142.47762500525602,
           "11": 142.6397491946826,
           "12": 153.6596319999998,
           "13": 142.24542345972205,
           "14": 142.23262612063422,
           "15": 142.22329935386995,
           "16": 142.16111228488924,
           "17": 146.5949467149125,
           "18": 141.84853900157694,
           "19": 142.31486670999683,
           "20": 142.18069466712987,
           "21": 142.4970750828718,
           "22": 143.17075188294618,
           "23": 142.28322748642242,
           "24": 142.07461262781925,
           "bdata": "+rkmx+vHYUAEhxHPAMNhQA4eUDblNmNAqtEGqt3dYUAU+IvikeBhQNe+nS3MzmFA8Dsag4LGYUAcPZrqyTFjQMiYXmjN2GFAVEQskPPMYUByKjy0SM9hQLuZTdN41GFAnWyRtBs1Y0CtpUyC2sdhQDiKVaxxx2FA3MKvRCXHYUCpUvPUJ8VhQC5tsc0JU2JA6aRDOye7YUAjwVljE8phQE28LkDIxWFA6BIBCujPYUB/H6fMduVhQGfwFjMQyWFARosFOmPCYUA=",
           "dtype": "f8",
           "shape": "25"
          },
          "bdata": "+rkmx+vHYUAEhxHPAMNhQA4eUDblNmNAqtEGqt3dYUAU+IvikeBhQNe+nS3MzmFA8Dsag4LGYUAcPZrqyTFjQMiYXmjN2GFAVEQskPPMYUByKjy0SM9hQLuZTdN41GFAnWyRtBs1Y0CtpUyC2sdhQDiKVaxxx2FA3MKvRCXHYUCpUvPUJ8VhQC5tsc0JU2JA6aRDOye7YUAjwVljE8phQE28LkDIxWFA6BIBCujPYUB/H6fMduVhQGfwFjMQyWFARosFOmPCYUA=",
          "dtype": "f8"
         },
         "marker": {
          "color": {
           "_inputArray": {
            "0": 5.975981604290405,
            "1": 5.939305192490793,
            "2": 5.6993999999999625,
            "3": 5.837199580162138,
            "4": 5.9938087908536195,
            "5": 5.8551778279942965,
            "6": 5.830760638295907,
            "7": 5.727599999999969,
            "8": 5.96570763535651,
            "9": 5.825736210253739,
            "10": 5.963472007011241,
            "11": 5.94665995611499,
            "12": 5.797799999999971,
            "13": 6.029537222280565,
            "14": 5.84340910214069,
            "15": 5.880983188272224,
            "16": 5.818985601759732,
            "17": 5.689656929824528,
            "18": 5.900413318925771,
            "19": 6.0578735597064615,
            "20": 6.006614217141752,
            "21": 5.944204344087601,
            "22": 6.040183902395999,
            "23": 5.824025958390742,
            "24": 5.963256720704292,
            "bdata": "GrO/uGfnF0AB2Go42cEXQPlJe4MvzBZA0xXE2EpZF0A/xvwCqfkXQND/jbyzaxdA2SOx6rJSF0AiR3L5D+kWQDFqXXbi3BdAsqYIy41NF0Ao5uJnmNoXQGbJPzphyRdApf6ye/IwF0C+1m4BPx4YQDhfu6KmXxdA79H3dCCGF0DNz10ppEYXQHY5HG01whZAD6328gWaF0As+Ng0QzsYQPc/meDFBhhAt2PqgN3GF0BEdwr4JSkYQIhf+XXNSxdA/k5E+F/aF0A=",
            "dtype": "f8",
            "shape": "25"
           },
           "bdata": "GrO/uGfnF0AB2Go42cEXQPlJe4MvzBZA0xXE2EpZF0A/xvwCqfkXQND/jbyzaxdA2SOx6rJSF0AiR3L5D+kWQDFqXXbi3BdAsqYIy41NF0Ao5uJnmNoXQGbJPzphyRdApf6ye/IwF0C+1m4BPx4YQDhfu6KmXxdA79H3dCCGF0DNz10ppEYXQHY5HG01whZAD6328gWaF0As+Ng0QzsYQPc/meDFBhhAt2PqgN3GF0BEdwr4JSkYQIhf+XXNSxdA/k5E+F/aF0A=",
           "dtype": "f8"
          },
          "colorbar": {
           "title": {
            "text": "Predicted Magnitude"
           },
           "x": 1.1,
           "y": 0.5
          },
          "colorscale": [
           [
            0,
            "rgb(255,245,240)"
           ],
           [
            0.125,
            "rgb(254,224,210)"
           ],
           [
            0.25,
            "rgb(252,187,161)"
           ],
           [
            0.375,
            "rgb(252,146,114)"
           ],
           [
            0.5,
            "rgb(251,106,74)"
           ],
           [
            0.625,
            "rgb(239,59,44)"
           ],
           [
            0.75,
            "rgb(203,24,29)"
           ],
           [
            0.875,
            "rgb(165,15,21)"
           ],
           [
            1,
            "rgb(103,0,13)"
           ]
          ],
          "opacity": 0.6,
          "size": {
           "_inputArray": {
            "0": 11.95196320858081,
            "1": 11.878610384981586,
            "2": 11.398799999999925,
            "3": 11.674399160324276,
            "4": 11.987617581707239,
            "5": 11.710355655988593,
            "6": 11.661521276591815,
            "7": 11.455199999999937,
            "8": 11.93141527071302,
            "9": 11.651472420507478,
            "10": 11.926944014022482,
            "11": 11.89331991222998,
            "12": 11.595599999999942,
            "13": 12.05907444456113,
            "14": 11.68681820428138,
            "15": 11.761966376544448,
            "16": 11.637971203519465,
            "17": 11.379313859649056,
            "18": 11.800826637851541,
            "19": 12.115747119412923,
            "20": 12.013228434283503,
            "21": 11.888408688175202,
            "22": 12.080367804791997,
            "23": 11.648051916781483,
            "24": 11.926513441408584,
            "bdata": "GrO/uGfnJ0AB2Go42cEnQPlJe4MvzCZA0xXE2EpZJ0A/xvwCqfknQND/jbyzaydA2SOx6rJSJ0AiR3L5D+kmQDFqXXbi3CdAsqYIy41NJ0Ao5uJnmNonQGbJPzphySdApf6ye/IwJ0C+1m4BPx4oQDhfu6KmXydA79H3dCCGJ0DNz10ppEYnQHY5HG01wiZAD6328gWaJ0As+Ng0QzsoQPc/meDFBihAt2PqgN3GJ0BEdwr4JSkoQIhf+XXNSydA/k5E+F/aJ0A=",
            "dtype": "f8",
            "shape": "25"
           },
           "bdata": "GrO/uGfnJ0AB2Go42cEnQPlJe4MvzCZA0xXE2EpZJ0A/xvwCqfknQND/jbyzaydA2SOx6rJSJ0AiR3L5D+kmQDFqXXbi3CdAsqYIy41NJ0Ao5uJnmNonQGbJPzphySdApf6ye/IwJ0C+1m4BPx4oQDhfu6KmXydA79H3dCCGJ0DNz10ppEYnQHY5HG01wiZAD6328gWaJ0As+Ng0QzsoQPc/meDFBihAt2PqgN3GJ0BEdwr4JSkoQIhf+XXNSydA/k5E+F/aJ0A=",
           "dtype": "f8"
          }
         },
         "mode": "markers",
         "name": "Predicted Earthquakes",
         "text": {
          "_inputArray": {
           "0": 5.975981604290405,
           "1": 5.939305192490793,
           "2": 5.6993999999999625,
           "3": 5.837199580162138,
           "4": 5.9938087908536195,
           "5": 5.8551778279942965,
           "6": 5.830760638295907,
           "7": 5.727599999999969,
           "8": 5.96570763535651,
           "9": 5.825736210253739,
           "10": 5.963472007011241,
           "11": 5.94665995611499,
           "12": 5.797799999999971,
           "13": 6.029537222280565,
           "14": 5.84340910214069,
           "15": 5.880983188272224,
           "16": 5.818985601759732,
           "17": 5.689656929824528,
           "18": 5.900413318925771,
           "19": 6.0578735597064615,
           "20": 6.006614217141752,
           "21": 5.944204344087601,
           "22": 6.040183902395999,
           "23": 5.824025958390742,
           "24": 5.963256720704292,
           "bdata": "GrO/uGfnF0AB2Go42cEXQPlJe4MvzBZA0xXE2EpZF0A/xvwCqfkXQND/jbyzaxdA2SOx6rJSF0AiR3L5D+kWQDFqXXbi3BdAsqYIy41NF0Ao5uJnmNoXQGbJPzphyRdApf6ye/IwF0C+1m4BPx4YQDhfu6KmXxdA79H3dCCGF0DNz10ppEYXQHY5HG01whZAD6328gWaF0As+Ng0QzsYQPc/meDFBhhAt2PqgN3GF0BEdwr4JSkYQIhf+XXNSxdA/k5E+F/aF0A=",
           "dtype": "f8",
           "shape": "25"
          },
          "bdata": "GrO/uGfnF0AB2Go42cEXQPlJe4MvzBZA0xXE2EpZF0A/xvwCqfkXQND/jbyzaxdA2SOx6rJSF0AiR3L5D+kWQDFqXXbi3BdAsqYIy41NF0Ao5uJnmNoXQGbJPzphyRdApf6ye/IwF0C+1m4BPx4YQDhfu6KmXxdA79H3dCCGF0DNz10ppEYXQHY5HG01whZAD6328gWaF0As+Ng0QzsYQPc/meDFBhhAt2PqgN3GF0BEdwr4JSkYQIhf+XXNSxdA/k5E+F/aF0A=",
          "dtype": "f8"
         },
         "type": "scattergeo"
        }
       ],
       "layout": {
        "autosize": true,
        "geo": {
         "center": {
          "lat": 38.05963174660046,
          "lon": 140.49024356548748
         },
         "projection": {
          "rotation": {
           "lon": 140.49024356548748
          },
          "scale": 16.65150378056771
         },
         "scope": "world",
         "showland": true
        },
        "legend": {
         "bgcolor": "rgba(255, 255, 255, 0.5)",
         "x": 0.75,
         "y": 0.05
        },
        "template": {
         "data": {
          "bar": [
           {
            "error_x": {
             "color": "#2a3f5f"
            },
            "error_y": {
             "color": "#2a3f5f"
            },
            "marker": {
             "line": {
              "color": "#E5ECF6",
              "width": 0.5
             },
             "pattern": {
              "fillmode": "overlay",
              "size": 10,
              "solidity": 0.2
             }
            },
            "type": "bar"
           }
          ],
          "barpolar": [
           {
            "marker": {
             "line": {
              "color": "#E5ECF6",
              "width": 0.5
             },
             "pattern": {
              "fillmode": "overlay",
              "size": 10,
              "solidity": 0.2
             }
            },
            "type": "barpolar"
           }
          ],
          "carpet": [
           {
            "aaxis": {
             "endlinecolor": "#2a3f5f",
             "gridcolor": "white",
             "linecolor": "white",
             "minorgridcolor": "white",
             "startlinecolor": "#2a3f5f"
            },
            "baxis": {
             "endlinecolor": "#2a3f5f",
             "gridcolor": "white",
             "linecolor": "white",
             "minorgridcolor": "white",
             "startlinecolor": "#2a3f5f"
            },
            "type": "carpet"
           }
          ],
          "choropleth": [
           {
            "colorbar": {
             "outlinewidth": 0,
             "ticks": ""
            },
            "type": "choropleth"
           }
          ],
          "contour": [
           {
            "colorbar": {
             "outlinewidth": 0,
             "ticks": ""
            },
            "colorscale": [
             [
              0,
              "#0d0887"
             ],
             [
              0.1111111111111111,
              "#46039f"
             ],
             [
              0.2222222222222222,
              "#7201a8"
             ],
             [
              0.3333333333333333,
              "#9c179e"
             ],
             [
              0.4444444444444444,
              "#bd3786"
             ],
             [
              0.5555555555555556,
              "#d8576b"
             ],
             [
              0.6666666666666666,
              "#ed7953"
             ],
             [
              0.7777777777777778,
              "#fb9f3a"
             ],
             [
              0.8888888888888888,
              "#fdca26"
             ],
             [
              1,
              "#f0f921"
             ]
            ],
            "type": "contour"
           }
          ],
          "contourcarpet": [
           {
            "colorbar": {
             "outlinewidth": 0,
             "ticks": ""
            },
            "type": "contourcarpet"
           }
          ],
          "heatmap": [
           {
            "colorbar": {
             "outlinewidth": 0,
             "ticks": ""
            },
            "colorscale": [
             [
              0,
              "#0d0887"
             ],
             [
              0.1111111111111111,
              "#46039f"
             ],
             [
              0.2222222222222222,
              "#7201a8"
             ],
             [
              0.3333333333333333,
              "#9c179e"
             ],
             [
              0.4444444444444444,
              "#bd3786"
             ],
             [
              0.5555555555555556,
              "#d8576b"
             ],
             [
              0.6666666666666666,
              "#ed7953"
             ],
             [
              0.7777777777777778,
              "#fb9f3a"
             ],
             [
              0.8888888888888888,
              "#fdca26"
             ],
             [
              1,
              "#f0f921"
             ]
            ],
            "type": "heatmap"
           }
          ],
          "histogram": [
           {
            "marker": {
             "pattern": {
              "fillmode": "overlay",
              "size": 10,
              "solidity": 0.2
             }
            },
            "type": "histogram"
           }
          ],
          "histogram2d": [
           {
            "colorbar": {
             "outlinewidth": 0,
             "ticks": ""
            },
            "colorscale": [
             [
              0,
              "#0d0887"
             ],
             [
              0.1111111111111111,
              "#46039f"
             ],
             [
              0.2222222222222222,
              "#7201a8"
             ],
             [
              0.3333333333333333,
              "#9c179e"
             ],
             [
              0.4444444444444444,
              "#bd3786"
             ],
             [
              0.5555555555555556,
              "#d8576b"
             ],
             [
              0.6666666666666666,
              "#ed7953"
             ],
             [
              0.7777777777777778,
              "#fb9f3a"
             ],
             [
              0.8888888888888888,
              "#fdca26"
             ],
             [
              1,
              "#f0f921"
             ]
            ],
            "type": "histogram2d"
           }
          ],
          "histogram2dcontour": [
           {
            "colorbar": {
             "outlinewidth": 0,
             "ticks": ""
            },
            "colorscale": [
             [
              0,
              "#0d0887"
             ],
             [
              0.1111111111111111,
              "#46039f"
             ],
             [
              0.2222222222222222,
              "#7201a8"
             ],
             [
              0.3333333333333333,
              "#9c179e"
             ],
             [
              0.4444444444444444,
              "#bd3786"
             ],
             [
              0.5555555555555556,
              "#d8576b"
             ],
             [
              0.6666666666666666,
              "#ed7953"
             ],
             [
              0.7777777777777778,
              "#fb9f3a"
             ],
             [
              0.8888888888888888,
              "#fdca26"
             ],
             [
              1,
              "#f0f921"
             ]
            ],
            "type": "histogram2dcontour"
           }
          ],
          "mesh3d": [
           {
            "colorbar": {
             "outlinewidth": 0,
             "ticks": ""
            },
            "type": "mesh3d"
           }
          ],
          "parcoords": [
           {
            "line": {
             "colorbar": {
              "outlinewidth": 0,
              "ticks": ""
             }
            },
            "type": "parcoords"
           }
          ],
          "pie": [
           {
            "automargin": true,
            "type": "pie"
           }
          ],
          "scatter": [
           {
            "fillpattern": {
             "fillmode": "overlay",
             "size": 10,
             "solidity": 0.2
            },
            "type": "scatter"
           }
          ],
          "scatter3d": [
           {
            "line": {
             "colorbar": {
              "outlinewidth": 0,
              "ticks": ""
             }
            },
            "marker": {
             "colorbar": {
              "outlinewidth": 0,
              "ticks": ""
             }
            },
            "type": "scatter3d"
           }
          ],
          "scattercarpet": [
           {
            "marker": {
             "colorbar": {
              "outlinewidth": 0,
              "ticks": ""
             }
            },
            "type": "scattercarpet"
           }
          ],
          "scattergeo": [
           {
            "marker": {
             "colorbar": {
              "outlinewidth": 0,
              "ticks": ""
             }
            },
            "type": "scattergeo"
           }
          ],
          "scattergl": [
           {
            "marker": {
             "colorbar": {
              "outlinewidth": 0,
              "ticks": ""
             }
            },
            "type": "scattergl"
           }
          ],
          "scattermap": [
           {
            "marker": {
             "colorbar": {
              "outlinewidth": 0,
              "ticks": ""
             }
            },
            "type": "scattermap"
           }
          ],
          "scattermapbox": [
           {
            "marker": {
             "colorbar": {
              "outlinewidth": 0,
              "ticks": ""
             }
            },
            "type": "scattermapbox"
           }
          ],
          "scatterpolar": [
           {
            "marker": {
             "colorbar": {
              "outlinewidth": 0,
              "ticks": ""
             }
            },
            "type": "scatterpolar"
           }
          ],
          "scatterpolargl": [
           {
            "marker": {
             "colorbar": {
              "outlinewidth": 0,
              "ticks": ""
             }
            },
            "type": "scatterpolargl"
           }
          ],
          "scatterternary": [
           {
            "marker": {
             "colorbar": {
              "outlinewidth": 0,
              "ticks": ""
             }
            },
            "type": "scatterternary"
           }
          ],
          "surface": [
           {
            "colorbar": {
             "outlinewidth": 0,
             "ticks": ""
            },
            "colorscale": [
             [
              0,
              "#0d0887"
             ],
             [
              0.1111111111111111,
              "#46039f"
             ],
             [
              0.2222222222222222,
              "#7201a8"
             ],
             [
              0.3333333333333333,
              "#9c179e"
             ],
             [
              0.4444444444444444,
              "#bd3786"
             ],
             [
              0.5555555555555556,
              "#d8576b"
             ],
             [
              0.6666666666666666,
              "#ed7953"
             ],
             [
              0.7777777777777778,
              "#fb9f3a"
             ],
             [
              0.8888888888888888,
              "#fdca26"
             ],
             [
              1,
              "#f0f921"
             ]
            ],
            "type": "surface"
           }
          ],
          "table": [
           {
            "cells": {
             "fill": {
              "color": "#EBF0F8"
             },
             "line": {
              "color": "white"
             }
            },
            "header": {
             "fill": {
              "color": "#C8D4E3"
             },
             "line": {
              "color": "white"
             }
            },
            "type": "table"
           }
          ]
         },
         "layout": {
          "annotationdefaults": {
           "arrowcolor": "#2a3f5f",
           "arrowhead": 0,
           "arrowwidth": 1
          },
          "autotypenumbers": "strict",
          "coloraxis": {
           "colorbar": {
            "outlinewidth": 0,
            "ticks": ""
           }
          },
          "colorscale": {
           "diverging": [
            [
             0,
             "#8e0152"
            ],
            [
             0.1,
             "#c51b7d"
            ],
            [
             0.2,
             "#de77ae"
            ],
            [
             0.3,
             "#f1b6da"
            ],
            [
             0.4,
             "#fde0ef"
            ],
            [
             0.5,
             "#f7f7f7"
            ],
            [
             0.6,
             "#e6f5d0"
            ],
            [
             0.7,
             "#b8e186"
            ],
            [
             0.8,
             "#7fbc41"
            ],
            [
             0.9,
             "#4d9221"
            ],
            [
             1,
             "#276419"
            ]
           ],
           "sequential": [
            [
             0,
             "#0d0887"
            ],
            [
             0.1111111111111111,
             "#46039f"
            ],
            [
             0.2222222222222222,
             "#7201a8"
            ],
            [
             0.3333333333333333,
             "#9c179e"
            ],
            [
             0.4444444444444444,
             "#bd3786"
            ],
            [
             0.5555555555555556,
             "#d8576b"
            ],
            [
             0.6666666666666666,
             "#ed7953"
            ],
            [
             0.7777777777777778,
             "#fb9f3a"
            ],
            [
             0.8888888888888888,
             "#fdca26"
            ],
            [
             1,
             "#f0f921"
            ]
           ],
           "sequentialminus": [
            [
             0,
             "#0d0887"
            ],
            [
             0.1111111111111111,
             "#46039f"
            ],
            [
             0.2222222222222222,
             "#7201a8"
            ],
            [
             0.3333333333333333,
             "#9c179e"
            ],
            [
             0.4444444444444444,
             "#bd3786"
            ],
            [
             0.5555555555555556,
             "#d8576b"
            ],
            [
             0.6666666666666666,
             "#ed7953"
            ],
            [
             0.7777777777777778,
             "#fb9f3a"
            ],
            [
             0.8888888888888888,
             "#fdca26"
            ],
            [
             1,
             "#f0f921"
            ]
           ]
          },
          "colorway": [
           "#636efa",
           "#EF553B",
           "#00cc96",
           "#ab63fa",
           "#FFA15A",
           "#19d3f3",
           "#FF6692",
           "#B6E880",
           "#FF97FF",
           "#FECB52"
          ],
          "font": {
           "color": "#2a3f5f"
          },
          "geo": {
           "bgcolor": "white",
           "lakecolor": "white",
           "landcolor": "#E5ECF6",
           "showlakes": true,
           "showland": true,
           "subunitcolor": "white"
          },
          "hoverlabel": {
           "align": "left"
          },
          "hovermode": "closest",
          "mapbox": {
           "style": "light"
          },
          "paper_bgcolor": "white",
          "plot_bgcolor": "#E5ECF6",
          "polar": {
           "angularaxis": {
            "gridcolor": "white",
            "linecolor": "white",
            "ticks": ""
           },
           "bgcolor": "#E5ECF6",
           "radialaxis": {
            "gridcolor": "white",
            "linecolor": "white",
            "ticks": ""
           }
          },
          "scene": {
           "xaxis": {
            "backgroundcolor": "#E5ECF6",
            "gridcolor": "white",
            "gridwidth": 2,
            "linecolor": "white",
            "showbackground": true,
            "ticks": "",
            "zerolinecolor": "white"
           },
           "yaxis": {
            "backgroundcolor": "#E5ECF6",
            "gridcolor": "white",
            "gridwidth": 2,
            "linecolor": "white",
            "showbackground": true,
            "ticks": "",
            "zerolinecolor": "white"
           },
           "zaxis": {
            "backgroundcolor": "#E5ECF6",
            "gridcolor": "white",
            "gridwidth": 2,
            "linecolor": "white",
            "showbackground": true,
            "ticks": "",
            "zerolinecolor": "white"
           }
          },
          "shapedefaults": {
           "line": {
            "color": "#2a3f5f"
           }
          },
          "ternary": {
           "aaxis": {
            "gridcolor": "white",
            "linecolor": "white",
            "ticks": ""
           },
           "baxis": {
            "gridcolor": "white",
            "linecolor": "white",
            "ticks": ""
           },
           "bgcolor": "#E5ECF6",
           "caxis": {
            "gridcolor": "white",
            "linecolor": "white",
            "ticks": ""
           }
          },
          "title": {
           "x": 0.05
          },
          "xaxis": {
           "automargin": true,
           "gridcolor": "white",
           "linecolor": "white",
           "ticks": "",
           "title": {
            "standoff": 15
           },
           "zerolinecolor": "white",
           "zerolinewidth": 2
          },
          "yaxis": {
           "automargin": true,
           "gridcolor": "white",
           "linecolor": "white",
           "ticks": "",
           "title": {
            "standoff": 15
           },
           "zerolinecolor": "white",
           "zerolinewidth": 2
          }
         }
        },
        "title": {
         "text": "Actual vs Predicted Earthquake Locations and Magnitudes"
        }
       }
      },
      "image/png": "[encoded data removed]"
     },
     "metadata": {},
     "output_type": "display_data"
    },
    {
     "name": "stderr",
     "output_type": "stream",
     "text": [
      "/var/folders/w2/_1tnpyv54znf28ppq1jgwnzr0000gn/T/ipykernel_44649/1992293508.py:85: FutureWarning:\n",
      "\n",
      "\n",
      "\n",
      "Passing `palette` without assigning `hue` is deprecated and will be removed in v0.14.0. Assign the `y` variable to `hue` and set `legend=False` for the same effect.\n",
      "\n",
      "\n"
     ]
    },
    {
     "data": {
      "image/png": "[encoded data removed]",
      "text/plain": [
       "<Figure size 1000x600 with 1 Axes>"
      ]
     },
     "metadata": {},
     "output_type": "display_data"
    }
   ],
   "source": [
    "#Train RandomForest model\n",
    "rf_model = RandomForestRegressor(random_state=42)\n",
    "param_grid_rf = {\n",
    "    \"n_estimators\": [100, 500],\n",
    "    \"max_depth\": [None, 10, 20],\n",
    "    \"min_samples_split\": [2, 5]\n",
    "}\n",
    "rf_search = GridSearchCV(rf_model, param_grid_rf, cv=3, scoring=\"neg_mean_squared_error\", verbose=1)\n",
    "rf_search.fit(X_train, y_train)\n",
    "best_rf = rf_search.best_estimator_\n",
    "\n",
    "#Predict\n",
    "y_pred_rf = best_rf.predict(X_test)\n",
    "\n",
    "#Evaluate the model\n",
    "mae = mean_absolute_error(y_test, y_pred_rf)\n",
    "mse = mean_squared_error(y_test, y_pred_rf)\n",
    "r2 = r2_score(y_test, y_pred_rf)\n",
    "\n",
    "print(f\"MAE: {mae}\")\n",
    "print(f\"MSE: {mse}\")\n",
    "print(f\"R2 Score: {r2}\")\n",
    "\n",
    "#Visualize earthquake locations and magnitudes using Plotly\n",
    "\n",
    "def visualize_with_plotly(actual_df, pred_df):\n",
    "    fig = go.Figure()\n",
    "    \n",
    "    # Actual earthquake data (blue gradient)\n",
    "    fig.add_trace(go.Scattergeo(\n",
    "        lon=actual_df[\"longitude\"],\n",
    "        lat=actual_df[\"latitude\"],\n",
    "        text=actual_df[\"mag\"],\n",
    "        marker=dict(\n",
    "            size=actual_df[\"mag\"] * 2,\n",
    "            color=actual_df[\"mag\"],\n",
    "            colorscale=\"Blues\",\n",
    "            colorbar=dict(title=\"Actual Magnitude\", x=-0.1),\n",
    "            opacity=0.6\n",
    "        ),\n",
    "        mode=\"markers\",\n",
    "        name=\"Actual Earthquakes\"\n",
    "    ))\n",
    "    \n",
    "    # Predicted earthquake data (red gradient)\n",
    "    fig.add_trace(go.Scattergeo(\n",
    "        lon=pred_df[\"longitude\"],\n",
    "        lat=pred_df[\"latitude\"],\n",
    "        text=pred_df[\"mag\"],\n",
    "        marker=dict(\n",
    "            size=pred_df[\"mag\"] * 2,\n",
    "            color=pred_df[\"mag\"],\n",
    "            colorscale=\"Reds\",\n",
    "            colorbar=dict(title=\"Predicted Magnitude\", x=1.1),\n",
    "            opacity=0.6\n",
    "        ),\n",
    "        mode=\"markers\",\n",
    "        name=\"Predicted Earthquakes\"\n",
    "    ))\n",
    "    \n",
    "    fig.update_layout(\n",
    "        title=\"Actual vs Predicted Earthquake Locations and Magnitudes\",\n",
    "        geo=dict(\n",
    "            scope=\"world\",\n",
    "            showland=True\n",
    "        ),\n",
    "        legend=dict(\n",
    "            x=0.75, \n",
    "            y=0.05,\n",
    "            bgcolor=\"rgba(255, 255, 255, 0.5)\"\n",
    "        )\n",
    "    )\n",
    "    \n",
    "    fig.show()\n",
    "\n",
    "actual_df = y_test.copy()\n",
    "pred_df = pd.DataFrame(y_pred_rf, columns=[\"latitude\", \"longitude\", \"mag\"])\n",
    "visualize_with_plotly(actual_df, pred_df)\n",
    "\n",
    "#Plot feature importance\n",
    "feature_importances = best_rf.feature_importances_\n",
    "feature_names = selected_features\n",
    "\n",
    "plt.figure(figsize=(10, 6))\n",
    "sns.barplot(x=feature_importances, y=feature_names, palette=\"viridis\")\n",
    "plt.xlabel(\"Feature Importance\")\n",
    "plt.ylabel(\"Features\")\n",
    "plt.title(\"Feature Importance in Random Forest Model\")\n",
    "plt.show()"
   ]
  },
  {
   "cell_type": "code",
   "execution_count": null,
   "metadata": {},
   "outputs": [
    {
     "data": {
      "text/plain": [
       "'decision_tree.pdf'"
      ]
     },
     "execution_count": 14,
     "metadata": {},
     "output_type": "execute_result"
    }
   ],
   "source": [
    "from sklearn.tree import export_graphviz\n",
    "import graphviz\n",
    "\n",
    "#Visualize a decision tree\n",
    "tree = best_rf.estimators_[0]  # Select the first tree in the Random Forest\n",
    "\n",
    "dot_data = export_graphviz(\n",
    "    tree,\n",
    "    feature_names=selected_features,\n",
    "    filled=True,\n",
    "    rounded=True,\n",
    "    special_characters=True\n",
    ")\n",
    "\n",
    "graph = graphviz.Source(dot_data)\n",
    "graph.render(\"decision_tree\")  # Save as a file\n",
    "\n",
    "# Display the decision tree\n",
    "graph.view()"
   ]
  },
  {
   "cell_type": "code",
   "execution_count": null,
   "metadata": {},
   "outputs": [],
   "source": [
    "from sklearn.ensemble import RandomForestRegressor\n",
    "from sklearn.model_selection import GridSearchCV\n",
    "\n",
    "rf_model = RandomForestRegressor(random_state=42)\n",
    "\n",
    "param_grid_rf = {\n",
    "    \"n_estimators\": [300, 500, 800],\n",
    "    \"max_depth\": [10, 20, 30, None],\n",
    "    \"min_samples_split\": [2, 5, 10],\n",
    "    \"min_samples_leaf\": [1, 2, 4],\n",
    "    \"max_features\": ['auto', 'sqrt', 0.8],\n",
    "    \"bootstrap\": [True, False]\n",
    "}\n",
    "\n",
    "rf_search = GridSearchCV(\n",
    "    rf_model,\n",
    "    param_grid_rf,\n",
    "    cv=5,\n",
    "    scoring=\"neg_mean_squared_error\",\n",
    "    verbose=2,\n",
    "    n_jobs=-1\n",
    ")\n",
    "\n",
    "rf_search.fit(X_train, y_train)\n",
    "\n",
    "best_rf = rf_search.best_estimator_\n",
    "print(\"Best RF Parameters:\", rf_search.best_params_)"
   ]
  }
 ],
 "metadata": {
  "kernelspec": {
   "display_name": "ml",
   "language": "python",
   "name": "python3"
  },
  "language_info": {
   "codemirror_mode": {
    "name": "ipython",
    "version": 3
   },
   "file_extension": ".py",
   "mimetype": "text/x-python",
   "name": "python",
   "nbconvert_exporter": "python",
   "pygments_lexer": "ipython3",
   "version": "3.12.8"
  }
 },
 "nbformat": 4,
 "nbformat_minor": 4
}
